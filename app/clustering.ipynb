{
 "cells": [
  {
   "cell_type": "code",
   "execution_count": 1,
   "id": "5dc3801d",
   "metadata": {},
   "outputs": [],
   "source": [
    "from urllib.parse import urlparse, unquote\n",
    "from transformers import BertTokenizer, BertModel\n",
    "from sklearn.cluster import KMeans\n",
    "from sklearn.decomposition import PCA\n",
    "import matplotlib.pyplot as plt\n",
    "import numpy as np\n",
    "import torch\n",
    "import pandas as pd\n",
    "import re"
   ]
  },
  {
   "cell_type": "code",
   "execution_count": 2,
   "id": "c56080b2",
   "metadata": {},
   "outputs": [
    {
     "name": "stdout",
     "output_type": "stream",
     "text": [
      "Using device: cuda\n"
     ]
    }
   ],
   "source": [
    "import torch\n",
    "\n",
    "device = torch.device(\"cuda\" if torch.cuda.is_available() else \"cpu\")\n",
    "print(f\"Using device: {device}\")"
   ]
  },
  {
   "cell_type": "code",
   "execution_count": 3,
   "id": "85da79c4",
   "metadata": {},
   "outputs": [],
   "source": [
    "path = '/home/dataq/Documents/Research/public/mlwl/outputs/sample.csv'"
   ]
  },
  {
   "cell_type": "code",
   "execution_count": 4,
   "id": "35c66648",
   "metadata": {},
   "outputs": [
    {
     "data": {
      "text/plain": [
       "(61, 1)"
      ]
     },
     "execution_count": 4,
     "metadata": {},
     "output_type": "execute_result"
    }
   ],
   "source": [
    "url_list = pd.read_csv(path, usecols=['url'], encoding='utf-8')\n",
    "url_list.shape"
   ]
  },
  {
   "cell_type": "code",
   "execution_count": 6,
   "id": "a9e131e9",
   "metadata": {},
   "outputs": [
    {
     "data": {
      "text/html": [
       "<div>\n",
       "<style scoped>\n",
       "    .dataframe tbody tr th:only-of-type {\n",
       "        vertical-align: middle;\n",
       "    }\n",
       "\n",
       "    .dataframe tbody tr th {\n",
       "        vertical-align: top;\n",
       "    }\n",
       "\n",
       "    .dataframe thead th {\n",
       "        text-align: right;\n",
       "    }\n",
       "</style>\n",
       "<table border=\"1\" class=\"dataframe\">\n",
       "  <thead>\n",
       "    <tr style=\"text-align: right;\">\n",
       "      <th></th>\n",
       "      <th>url</th>\n",
       "    </tr>\n",
       "  </thead>\n",
       "  <tbody>\n",
       "    <tr>\n",
       "      <th>0</th>\n",
       "      <td>/image/60844/productModel/200x200</td>\n",
       "    </tr>\n",
       "    <tr>\n",
       "      <th>1</th>\n",
       "      <td>/image/61474/productModel/200x200</td>\n",
       "    </tr>\n",
       "    <tr>\n",
       "      <th>2</th>\n",
       "      <td>/product/31893/62100/سشوار-خانگی-پرنسلی-مدل-PR...</td>\n",
       "    </tr>\n",
       "    <tr>\n",
       "      <th>3</th>\n",
       "      <td>/m/product/32574/62991/ماشین-اصلاح-صورت-پرنسلی...</td>\n",
       "    </tr>\n",
       "    <tr>\n",
       "      <th>4</th>\n",
       "      <td>/product/10075/13903/مایکروفر-رومیزی-سامسونگ-م...</td>\n",
       "    </tr>\n",
       "    <tr>\n",
       "      <th>...</th>\n",
       "      <td>...</td>\n",
       "    </tr>\n",
       "    <tr>\n",
       "      <th>56</th>\n",
       "      <td>/m/updateVariation?__amp_source_origin=https:/...</td>\n",
       "    </tr>\n",
       "    <tr>\n",
       "      <th>57</th>\n",
       "      <td>/product/29080?model=58289</td>\n",
       "    </tr>\n",
       "    <tr>\n",
       "      <th>58</th>\n",
       "      <td>/m/updateVariation?__amp_source_origin=https:/...</td>\n",
       "    </tr>\n",
       "    <tr>\n",
       "      <th>59</th>\n",
       "      <td>/product/30472/60169/عطر-و-ادکلن-زنانه-دیور-مد...</td>\n",
       "    </tr>\n",
       "    <tr>\n",
       "      <th>60</th>\n",
       "      <td>/image/62423/productModel/150x150</td>\n",
       "    </tr>\n",
       "  </tbody>\n",
       "</table>\n",
       "<p>61 rows × 1 columns</p>\n",
       "</div>"
      ],
      "text/plain": [
       "                                                  url\n",
       "0                   /image/60844/productModel/200x200\n",
       "1                   /image/61474/productModel/200x200\n",
       "2   /product/31893/62100/سشوار-خانگی-پرنسلی-مدل-PR...\n",
       "3   /m/product/32574/62991/ماشین-اصلاح-صورت-پرنسلی...\n",
       "4   /product/10075/13903/مایکروفر-رومیزی-سامسونگ-م...\n",
       "..                                                ...\n",
       "56  /m/updateVariation?__amp_source_origin=https:/...\n",
       "57                         /product/29080?model=58289\n",
       "58  /m/updateVariation?__amp_source_origin=https:/...\n",
       "59  /product/30472/60169/عطر-و-ادکلن-زنانه-دیور-مد...\n",
       "60                  /image/62423/productModel/150x150\n",
       "\n",
       "[61 rows x 1 columns]"
      ]
     },
     "execution_count": 6,
     "metadata": {},
     "output_type": "execute_result"
    }
   ],
   "source": [
    "url_list"
   ]
  },
  {
   "cell_type": "code",
   "execution_count": null,
   "id": "37e46c63",
   "metadata": {},
   "outputs": [],
   "source": [
    "def url_for_training(url_list):\n",
    "    result = url_list['url'].unique()\n",
    "    result = [re.sub(r'\\d+', '<NUM>', url) for url in result]\n",
    "    result = set(result)   \n",
    "    return list(result)\n",
    "\n",
    "train_url_list = url_for_training(url_list)\n",
    "len(train_url_list)"
   ]
  },
  {
   "cell_type": "code",
   "execution_count": null,
   "id": "ba07921d",
   "metadata": {},
   "outputs": [],
   "source": [
    "# Step 1: Clean and tokenize URLs\n",
    "def tokenize_url(url):\n",
    "    parsed = urlparse(url)\n",
    "    path = unquote(parsed.path)\n",
    "    query = unquote(parsed.query)\n",
    "\n",
    "    # Extended the regex to include (), [], <>\n",
    "    delimiters = r\"[\\/\\-\\_\\=\\&\\?\\.\\+\\(\\)\\[\\]\\<\\>\\{\\}]\"\n",
    "    path_tokens = re.split(delimiters, path.strip(\"/\"))\n",
    "    query_tokens = re.split(delimiters, query)\n",
    "\n",
    "    tokens = [tok for tok in path_tokens + query_tokens if tok]\n",
    "    return tokens\n",
    "\n",
    "tokenized_urls = [\" \".join(tokenize_url(url)) for url in train_url_list]"
   ]
  },
  {
   "cell_type": "code",
   "execution_count": null,
   "id": "ef6c3e7c",
   "metadata": {},
   "outputs": [],
   "source": [
    "# Step 2: Load BERT\n",
    "tokenizer = BertTokenizer.from_pretrained(\"bert-base-uncased\")\n",
    "model = BertModel.from_pretrained(\"bert-base-uncased\")\n",
    "model = BertModel.from_pretrained(\"bert-base-uncased\").to(device)\n",
    "model.eval()"
   ]
  },
  {
   "cell_type": "code",
   "execution_count": null,
   "id": "19c6ca50",
   "metadata": {},
   "outputs": [],
   "source": [
    "# Step 3: Get BERT embeddings\n",
    "def get_url_embedding(text):\n",
    "    inputs = tokenizer(text, return_tensors=\"pt\", padding=True, truncation=True).to(device)\n",
    "    with torch.no_grad():\n",
    "        outputs = model(**inputs)\n",
    "    return outputs.last_hidden_state.mean(dim=1).squeeze().cpu().numpy()  # back to CPU\n",
    "\n",
    "embeddings = np.array([get_url_embedding(url) for url in tokenized_urls])"
   ]
  },
  {
   "cell_type": "code",
   "execution_count": null,
   "id": "d8de6311",
   "metadata": {},
   "outputs": [],
   "source": [
    "# Step 4: KMeans clustering\n",
    "n_clusters=400\n",
    "kmeans = KMeans(n_clusters=n_clusters, random_state=42)\n",
    "labels = kmeans.fit_predict(embeddings)"
   ]
  },
  {
   "cell_type": "code",
   "execution_count": null,
   "id": "dd81cf93",
   "metadata": {},
   "outputs": [],
   "source": [
    "# Step 5: Print Clustered URLs\n",
    "clustered_urls = {i: [] for i in range(n_clusters)}\n",
    "for idx, label in enumerate(labels):\n",
    "    clustered_urls[label].append(train_url_list[idx])\n",
    "\n",
    "with open(\"clustered_urls.txt\", \"w\") as f:\n",
    "    for cluster, urls in clustered_urls.items():\n",
    "        f.write(f\"\\nCluster {cluster}:\\n\")\n",
    "        for url in urls:\n",
    "            f.write(f\"  {url}\\n\")\n"
   ]
  },
  {
   "cell_type": "code",
   "execution_count": null,
   "id": "6c88baf8",
   "metadata": {},
   "outputs": [],
   "source": [
    "# Step 6: Save clustered URLs to CSV\n",
    "df_label = pd.DataFrame({\n",
    "    \"masked\": train_url_list,\n",
    "    \"cluster\": labels\n",
    "})\n",
    "df_label = df_label.sort_values(by='cluster')\n",
    "df_label.to_csv(\"clustered_urls.csv\", index=False, encoding=\"utf-8\")"
   ]
  },
  {
   "cell_type": "code",
   "execution_count": null,
   "id": "70092bc9",
   "metadata": {},
   "outputs": [],
   "source": [
    "df_label"
   ]
  },
  {
   "cell_type": "code",
   "execution_count": null,
   "id": "c5d9aba6",
   "metadata": {},
   "outputs": [],
   "source": [
    "url_list['masked'] = url_list['url'].apply(lambda url: re.sub(r'\\d+', '<NUM>', url))\n",
    "url_list"
   ]
  },
  {
   "cell_type": "code",
   "execution_count": null,
   "id": "70accbeb",
   "metadata": {},
   "outputs": [],
   "source": [
    "url_list = url_list.merge(df_label[['masked', 'cluster']], on='masked', how='left')\n",
    "url_list"
   ]
  },
  {
   "cell_type": "code",
   "execution_count": null,
   "id": "4e66b812",
   "metadata": {},
   "outputs": [],
   "source": [
    "url_list['cluster'].value_counts()"
   ]
  }
 ],
 "metadata": {
  "kernelspec": {
   "display_name": "transformers",
   "language": "python",
   "name": "python3"
  },
  "language_info": {
   "codemirror_mode": {
    "name": "ipython",
    "version": 3
   },
   "file_extension": ".py",
   "mimetype": "text/x-python",
   "name": "python",
   "nbconvert_exporter": "python",
   "pygments_lexer": "ipython3",
   "version": "3.11.11"
  }
 },
 "nbformat": 4,
 "nbformat_minor": 5
}
